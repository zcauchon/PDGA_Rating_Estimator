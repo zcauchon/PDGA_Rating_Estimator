{
 "cells": [
  {
   "cell_type": "code",
   "execution_count": 4,
   "metadata": {},
   "outputs": [],
   "source": [
    "from bs4 import BeautifulSoup\n",
    "from requests import get\n",
    "import pandas as pd\n",
    "from datetime import date"
   ]
  },
  {
   "cell_type": "code",
   "execution_count": 2,
   "metadata": {},
   "outputs": [],
   "source": [
    "url = \"https://www.pdga.com/tour/search?date_filter[min][date]=2023-02-01&State[]=PA&Tier[]=A&Tier[]=B&Tier[]=C\"\n",
    "page = get(url)\n",
    "soup = BeautifulSoup(page.content, \"html.parser\")"
   ]
  },
  {
   "cell_type": "code",
   "execution_count": 7,
   "metadata": {},
   "outputs": [
    {
     "name": "stdout",
     "output_type": "stream",
     "text": [
      "['65429', datetime.date(2025, 2, 28), 1]\n",
      "['65361', datetime.date(2025, 2, 28), 1]\n",
      "['65814', datetime.date(2025, 2, 28), 1]\n",
      "['64895', datetime.date(2025, 2, 28), 1]\n",
      "['66846', datetime.date(2025, 2, 28), 1]\n",
      "['65456', datetime.date(2025, 2, 28), 1]\n",
      "['65302', datetime.date(2025, 2, 28), 1]\n",
      "['64985', datetime.date(2025, 2, 28), 1]\n",
      "['66683', datetime.date(2025, 2, 28), 1]\n",
      "['67414', datetime.date(2025, 2, 28), 1]\n",
      "['66816', datetime.date(2025, 2, 28), 1]\n",
      "['66040', datetime.date(2025, 2, 28), 1]\n",
      "['67662', datetime.date(2025, 2, 28), 1]\n",
      "['66817', datetime.date(2025, 2, 28), 1]\n",
      "['65928', datetime.date(2025, 2, 28), 1]\n",
      "['67663', datetime.date(2025, 2, 28), 1]\n",
      "['65916', datetime.date(2025, 2, 28), 1]\n",
      "['65929', datetime.date(2025, 2, 28), 1]\n",
      "['67268', datetime.date(2025, 2, 28), 1]\n",
      "['66567', datetime.date(2025, 2, 28), 1]\n",
      "['65761', datetime.date(2025, 2, 28), 1]\n",
      "['64813', datetime.date(2025, 2, 28), 1]\n",
      "['66580', datetime.date(2025, 2, 28), 1]\n",
      "['67969', datetime.date(2025, 2, 28), 1]\n",
      "['67919', datetime.date(2025, 2, 28), 1]\n"
     ]
    },
    {
     "data": {
      "text/plain": [
       "25"
      ]
     },
     "execution_count": 7,
     "metadata": {},
     "output_type": "execute_result"
    }
   ],
   "source": [
    "i = 0\n",
    "for event in soup.find_all('td', attrs={'class':'views-field-OfficialName'}):\n",
    "    event_url = f'{event.a[\"href\"]}'\n",
    "    # add event to results\n",
    "    print([event_url.split('/')[-1], date.today(), 1])\n",
    "    i += 1\n",
    "i"
   ]
  },
  {
   "cell_type": "code",
   "execution_count": 8,
   "metadata": {},
   "outputs": [],
   "source": [
    "next_page = soup.find(\"li\", attrs={\"class\":\"pager-next\"})"
   ]
  },
  {
   "cell_type": "code",
   "execution_count": 9,
   "metadata": {},
   "outputs": [
    {
     "data": {
      "text/plain": [
       "'/tour/search?date_filter%5Bmin%5D%5Bdate%5D=2023-02-01&State%5B0%5D=PA&Tier%5B0%5D=A&Tier%5B1%5D=B&Tier%5B2%5D=C&page=1'"
      ]
     },
     "execution_count": 9,
     "metadata": {},
     "output_type": "execute_result"
    }
   ],
   "source": [
    "next_page.a['href']"
   ]
  }
 ],
 "metadata": {
  "kernelspec": {
   "display_name": ".venv",
   "language": "python",
   "name": "python3"
  },
  "language_info": {
   "codemirror_mode": {
    "name": "ipython",
    "version": 3
   },
   "file_extension": ".py",
   "mimetype": "text/x-python",
   "name": "python",
   "nbconvert_exporter": "python",
   "pygments_lexer": "ipython3",
   "version": "3.11.9"
  }
 },
 "nbformat": 4,
 "nbformat_minor": 2
}
